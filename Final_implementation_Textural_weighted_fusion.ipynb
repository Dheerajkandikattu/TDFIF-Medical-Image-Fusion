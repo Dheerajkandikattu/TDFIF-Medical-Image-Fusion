{
  "cells": [
    {
      "cell_type": "markdown",
      "metadata": {
        "id": "973D4XLsUfKm"
      },
      "source": [
        "# This is the pytorch implementation of \"Textural weighted fusion\""
      ]
    },
    {
      "cell_type": "code",
      "execution_count": null,
      "metadata": {
        "id": "Yio1fm2uUfKp"
      },
      "outputs": [],
      "source": [
        "#Import packages\n",
        "import time\n",
        "import torch.nn as nn\n",
        "import torch\n",
        "from torch.utils.data import Dataset, DataLoader\n",
        "import torchvision.datasets as datasets\n",
        "import numpy as np\n",
        "from torchvision import transforms\n",
        "from torch.autograd import Variable\n",
        "from PIL import Image\n",
        "import torchvision.transforms.functional as TF\n",
        "from torchvision.models.vgg import vgg19\n",
        "import torch.nn as nn\n",
        "import torch.nn.functional as F\n",
        "import torch\n",
        "from skimage import img_as_ubyte\n",
        "import torch.nn as nn\n",
        "import torch.utils.data as Data\n",
        "import torchvision      # dataset\n",
        "import matplotlib.pyplot as plt\n",
        "import scipy\n",
        "import numpy as np\n",
        "import argparse\n",
        "import glob\n",
        "import imageio\n",
        "from skimage import color\n",
        "import numpy\n",
        "import natsort\n",
        "import scipy\n",
        "import pprint\n",
        "from scipy.ndimage import correlate\n",
        "from scipy.ndimage.filters import gaussian_gradient_magnitude\n",
        "import torchvision.datasets as dset\n",
        "import torch.utils.data as data\n",
        "import os\n",
        "import os.path\n",
        "from tkinter import *\n",
        "import tkinter as tk\n",
        "import tkinter.font as tkFont\n",
        "from PIL import ImageTk, Image\n",
        "import pylab\n",
        "import cv2\n",
        "import h5py\n",
        "from mpl_toolkits.axes_grid1 import make_axes_locatable\n",
        "from matplotlib.font_manager import FontProperties\n",
        "import torch\n",
        "import torch.nn.functional as F\n",
        "import numpy as np\n",
        "import math\n",
        "from PIL import Image\n",
        "import cv2\n",
        "from google.colab.patches import cv2_imshow\n",
        "import matplotlib\n",
        "import matplotlib.pyplot as plt"
      ]
    },
    {
      "cell_type": "code",
      "execution_count": null,
      "metadata": {
        "colab": {
          "base_uri": "https://localhost:8080/"
        },
        "id": "NtmAq2ylqYVA",
        "outputId": "27f70236-6e0c-448a-8efc-589c981a3e67"
      },
      "outputs": [
        {
          "output_type": "stream",
          "name": "stdout",
          "text": [
            "Mounted at /content/drive\n"
          ]
        }
      ],
      "source": [
        "\n",
        "from google.colab import drive\n",
        "drive.mount('/content/drive')"
      ]
    },
    {
      "cell_type": "code",
      "execution_count": null,
      "metadata": {
        "colab": {
          "base_uri": "https://localhost:8080/"
        },
        "id": "abakrSlZIFrz",
        "outputId": "9fc88144-cd00-4cae-9f6e-251c21278a76"
      },
      "outputs": [
        {
          "output_type": "stream",
          "name": "stdout",
          "text": [
            "/content/drive/.shortcut-targets-by-id/1uVtwMbKudULDh5ogssCQcQS30RUY-8oK/Dataset-new\n"
          ]
        }
      ],
      "source": [
        "%cd drive/MyDrive/Dataset-new"
      ]
    },
    {
      "cell_type": "code",
      "execution_count": null,
      "metadata": {
        "colab": {
          "base_uri": "https://localhost:8080/"
        },
        "id": "Aa3sgjEkUfKq",
        "outputId": "36f1a5d8-2027-49a7-8809-8c878aa7f98b"
      },
      "outputs": [
        {
          "output_type": "stream",
          "name": "stdout",
          "text": [
            "15843721216\n"
          ]
        }
      ],
      "source": [
        "device = 'cuda' if torch.cuda.is_available() else 'cpu'\n",
        "print(torch.cuda.get_device_properties(0).total_memory)"
      ]
    },
    {
      "cell_type": "code",
      "execution_count": null,
      "metadata": {
        "colab": {
          "base_uri": "https://localhost:8080/"
        },
        "id": "XigMk1fsUfKs",
        "outputId": "f6f56fc6-ff9d-46bb-ff43-90372db636b0"
      },
      "outputs": [
        {
          "output_type": "execute_result",
          "data": {
            "text/plain": [
              "2"
            ]
          },
          "metadata": {},
          "execution_count": 24
        }
      ],
      "source": [
        "import multiprocessing\n",
        "import fast_glcm\n",
        "multiprocessing.cpu_count()"
      ]
    },
    {
      "cell_type": "code",
      "execution_count": null,
      "metadata": {
        "id": "c7wrEKsLUfKs"
      },
      "outputs": [],
      "source": [
        "#define the hyperparameters\n",
        "image_length = 256\n",
        "image_width  = 256\n",
        "mr_channels  = 1\n",
        "gray_channels = 1\n",
        "ct_channels = 4\n",
        "rgb_channels = 3\n",
        "batch_size   = 1\n",
        "EPOCH = 10\n",
        "learning_rate = 0.002\n",
        "import torch.nn.functional as F\n",
        "import sys\n",
        "np.set_printoptions(threshold=sys.maxsize)\n"
      ]
    },
    {
      "cell_type": "code",
      "execution_count": null,
      "metadata": {
        "id": "p0UVSiKuUfKt"
      },
      "outputs": [],
      "source": [
        "#load the train mri data\n",
        "\n",
        "filenames = os.listdir('MRIGIF')\n",
        "dataset = os.path.join(os.getcwd(), 'MRIGIF')\n",
        "data = glob.glob(os.path.join(dataset, \"*.gif\"))\n",
        "data = natsort.natsorted(data,reverse=False)\n",
        "train_mri = np.zeros((len(data),image_width,image_length))\n",
        "for i in range(len(data)):\n",
        "      train_mri[i] =(imageio.imread(data[i]))\n",
        "\n",
        "\n"
      ]
    },
    {
      "cell_type": "code",
      "execution_count": null,
      "metadata": {
        "id": "PwuIZgTlUfKt"
      },
      "outputs": [],
      "source": [
        "#expand dimension to add the channel\n",
        "train_mri = np.expand_dims(train_mri,axis=1)\n",
        "#expand dimension to add the channel\n",
        "train_mri = np.expand_dims(train_mri,axis=1)"
      ]
    },
    {
      "cell_type": "code",
      "execution_count": null,
      "metadata": {
        "colab": {
          "base_uri": "https://localhost:8080/"
        },
        "id": "wCrhk9TzUfKu",
        "outputId": "3cfb95c0-f7bc-4c6d-b048-4e56927f11d1"
      },
      "outputs": [
        {
          "output_type": "execute_result",
          "data": {
            "text/plain": [
              "(204, 1, 1, 256, 256)"
            ]
          },
          "metadata": {},
          "execution_count": 52
        }
      ],
      "source": [
        "#verify the shape matches the pytorch standard\n",
        "train_mri.shape"
      ]
    },
    {
      "cell_type": "code",
      "execution_count": null,
      "metadata": {
        "colab": {
          "base_uri": "https://localhost:8080/"
        },
        "id": "8XJaADqOUfKu",
        "outputId": "017ecc47-351b-4bca-f795-29dfb40430c4"
      },
      "outputs": [
        {
          "output_type": "execute_result",
          "data": {
            "text/plain": [
              "torch.Size([204, 1, 1, 256, 256])"
            ]
          },
          "metadata": {},
          "execution_count": 53
        }
      ],
      "source": [
        "#convert the MRI training data to pytorch tensor\n",
        "train_mri_tensor = torch.from_numpy(train_mri).float()\n",
        "train_mri_tensor.shape"
      ]
    },
    {
      "cell_type": "code",
      "execution_count": null,
      "metadata": {
        "id": "CjYRaZi9UfKu"
      },
      "outputs": [],
      "source": [
        "#load the train ct data\n",
        "filenames = os.listdir('CTGIF')\n",
        "dataset = os.path.join(os.getcwd(), 'CTGIF')\n",
        "data = glob.glob(os.path.join(dataset, \"*.gif\"))\n",
        "data = natsort.natsorted(data,reverse=False)\n",
        "train_ct = np.zeros((len(data),image_width,image_length),dtype=float)\n",
        "for i in range(len(data)):\n",
        "      train_ct[i,:,:] =(imageio.imread(data[i]))"
      ]
    },
    {
      "cell_type": "code",
      "execution_count": null,
      "metadata": {
        "id": "3gOv5RCEUfKv"
      },
      "outputs": [],
      "source": [
        "#expand the dimension to add the channel\n",
        "train_ct = np.expand_dims(train_ct,axis=1)#expand the dimension to add the channel\n",
        "train_ct = np.expand_dims(train_ct,axis=1)"
      ]
    },
    {
      "cell_type": "code",
      "execution_count": null,
      "metadata": {
        "colab": {
          "base_uri": "https://localhost:8080/"
        },
        "id": "e7hA5ZK9UfKv",
        "outputId": "9653091c-6b2a-4371-e74e-130469dc218b"
      },
      "outputs": [
        {
          "output_type": "execute_result",
          "data": {
            "text/plain": [
              "(204, 1, 1, 256, 256)"
            ]
          },
          "metadata": {},
          "execution_count": 56
        }
      ],
      "source": [
        "#verify the shape matches the pytorch standard\n",
        "train_ct.shape"
      ]
    },
    {
      "cell_type": "code",
      "execution_count": null,
      "metadata": {
        "colab": {
          "base_uri": "https://localhost:8080/"
        },
        "id": "GG0rpWRKUfKw",
        "outputId": "35eba795-7261-40ed-bc9e-0b93515a88aa"
      },
      "outputs": [
        {
          "output_type": "execute_result",
          "data": {
            "text/plain": [
              "torch.Size([204, 1, 1, 256, 256])"
            ]
          },
          "metadata": {},
          "execution_count": 57
        }
      ],
      "source": [
        "#convert the ct training data to pytorch tensor\n",
        "train_ct_tensor = torch.from_numpy(train_ct).float()\n",
        "train_ct_tensor.shape"
      ]
    },
    {
      "cell_type": "code",
      "execution_count": null,
      "metadata": {
        "id": "bgXApLIiLSmU"
      },
      "outputs": [],
      "source": [
        "#load the train ct data\n",
        "filenames = os.listdir('Alloutputs')\n",
        "dataset = os.path.join(os.getcwd(), 'Alloutputs')\n",
        "data = glob.glob(os.path.join(dataset, \"*.gif\"))\n",
        "data = natsort.natsorted(data,reverse=False)\n",
        "train_other = np.zeros((len(data),image_width,image_length,ct_channels),dtype=float)\n",
        "train_gt = np.zeros((len(data),image_width,image_length),dtype=float)\n",
        "for i in range(len(data)):\n",
        "    train_gt[i]=(imageio.imread(data[i]))\n"
      ]
    },
    {
      "cell_type": "code",
      "execution_count": null,
      "metadata": {
        "id": "esh3KCmcLvBO"
      },
      "outputs": [],
      "source": [
        "#expand the dimension to add the channel\n",
        "train_gt = np.expand_dims(train_gt,axis=1)\n",
        "train_gt = np.expand_dims(train_gt,axis=1)"
      ]
    },
    {
      "cell_type": "code",
      "execution_count": null,
      "metadata": {
        "colab": {
          "base_uri": "https://localhost:8080/"
        },
        "id": "knzSk5R8MDLo",
        "outputId": "433ea51b-8e05-4536-a44d-2b83edd9fdc7"
      },
      "outputs": [
        {
          "output_type": "execute_result",
          "data": {
            "text/plain": [
              "(204, 256, 256)"
            ]
          },
          "metadata": {},
          "execution_count": 71
        }
      ],
      "source": [
        "#verify the shape matches the pytorch standard\n",
        "train_gt.shape"
      ]
    },
    {
      "cell_type": "code",
      "execution_count": null,
      "metadata": {
        "colab": {
          "base_uri": "https://localhost:8080/"
        },
        "id": "Wjt6pTR-MLHB",
        "outputId": "e79e2cb3-78c4-4b4e-ff36-0bd0eb364249"
      },
      "outputs": [
        {
          "output_type": "execute_result",
          "data": {
            "text/plain": [
              "torch.Size([204, 1, 1, 256, 256])"
            ]
          },
          "metadata": {},
          "execution_count": 37
        }
      ],
      "source": [
        "#convert the ct training data to pytorch tensor\n",
        "train_gt_tensor = torch.from_numpy(train_gt).float()\n",
        "train_gt_tensor.shape"
      ]
    },
    {
      "cell_type": "code",
      "execution_count": null,
      "metadata": {
        "colab": {
          "base_uri": "https://localhost:8080/"
        },
        "id": "wpEIQ6o7UfKw",
        "outputId": "94e639b2-6f4e-46c0-a7d4-77f107bb931a"
      },
      "outputs": [
        {
          "output_type": "stream",
          "name": "stdout",
          "text": [
            "Proposed(\n",
            "  (conv1): ConvBlock(\n",
            "    (conv): Conv2d(1, 64, kernel_size=(3, 3), stride=(1, 1), bias=False)\n",
            "    (bn): BatchNorm2d(64, eps=1e-05, momentum=0.1, affine=True, track_running_stats=True)\n",
            "    (relu): ReLU(inplace=True)\n",
            "  )\n",
            "  (conv2): ConvBlock(\n",
            "    (conv): Conv2d(64, 64, kernel_size=(3, 3), stride=(1, 1), bias=False)\n",
            "    (bn): BatchNorm2d(64, eps=1e-05, momentum=0.1, affine=True, track_running_stats=True)\n",
            "    (relu): ReLU(inplace=True)\n",
            "  )\n",
            "  (conv3): ConvBlock(\n",
            "    (conv): Conv2d(64, 64, kernel_size=(3, 3), stride=(1, 1), bias=False)\n",
            "    (bn): BatchNorm2d(64, eps=1e-05, momentum=0.1, affine=True, track_running_stats=True)\n",
            "    (relu): ReLU(inplace=True)\n",
            "  )\n",
            "  (conv4): Conv2d(64, 1, kernel_size=(1, 1), stride=(1, 1))\n",
            ")\n"
          ]
        }
      ],
      "source": [
        "#\n",
        "'''---------------------------------------------------------------------------\n",
        "# Proposed image fusion framework\n",
        "# ----------------------------------------------------------------------------'''\n",
        "import torch\n",
        "import math\n",
        "import torch.nn as nn\n",
        "import torch.nn.functional as F\n",
        "import torchvision.models as models\n",
        "import skimage.feature as ski\n",
        "import numpy as np\n",
        "\n",
        "\n",
        "plt.rcParams['image.cmap'] = 'gray'\n",
        "# # My Convolution Block\n",
        "class ConvBlock(nn.Module):\n",
        "    def __init__(self, inplane, outplane):\n",
        "        super(ConvBlock, self).__init__()\n",
        "        self.padding = (1, 1, 1, 1)\n",
        "        self.conv = nn.Conv2d(inplane, outplane, kernel_size=3, padding=0, stride=1, bias=False)\n",
        "        self.bn = nn.BatchNorm2d(outplane)\n",
        "        self.relu = nn.ReLU(inplace=True)\n",
        "\n",
        "    def forward(self, x):\n",
        "        out = F.pad(x, self.padding, 'replicate')\n",
        "        out = self.conv(out)\n",
        "        out = self.bn(out)\n",
        "        out = self.relu(out)\n",
        "        return out\n",
        "\n",
        "\n",
        "class Proposed(nn.Module):\n",
        "    def __init__(self, resnet, fuse_scheme=0):\n",
        "        super(Proposed, self).__init__()\n",
        "        self.fuse_scheme = fuse_scheme # MAX, MEAN, SUM\n",
        "        self.conv1 = ConvBlock(1,64)\n",
        "        self.conv2 = ConvBlock(64, 64)\n",
        "        self.conv3 = ConvBlock(64, 64)\n",
        "        self.conv4 = nn.Conv2d(64, 1, kernel_size=1, padding=0, stride=1, bias=True)\n",
        "\n",
        "        # Initialize parameters for other parameters\n",
        "        for m in self.modules():\n",
        "            if isinstance(m, nn.Conv2d):\n",
        "                n = m.kernel_size[0] * m.kernel_size[1] * m.out_channels\n",
        "                m.weight.data.normal_(0, math.sqrt(2. / n))\n",
        "\n",
        "    def operate(self, operator, tensors):\n",
        "        out_tensors = []\n",
        "        for tensor in tensors:\n",
        "            out_tensor = operator(tensor)\n",
        "            out_tensors.append(out_tensor)\n",
        "        return out_tensors\n",
        "\n",
        "    def tensor_padding(self, tensors, padding=(1, 1, 1, 1), mode='constant', value=0):\n",
        "        out_tensors = []\n",
        "        for tensor in tensors:\n",
        "            out_tensor = F.pad(tensor, padding, mode=mode, value=value)\n",
        "            out_tensors.append(out_tensor)\n",
        "        return out_tensors\n",
        "\n",
        "    def forward(self, *tensors):\n",
        "        # Feature extraction\n",
        "        outs = self.operate(self.conv1, tensors)\n",
        "        outs = self.operate(self.conv2, outs)\n",
        "        imgs_sum_maps = [-1 for tensor_img in tensors]\n",
        "        for idx,feature_map in enumerate(outs):\n",
        "              imgs_sum_maps[idx]=[]\n",
        "              sum_map1 = torch.sum(feature_map, dim=1, keepdim=True)\n",
        "              imgs_sum_maps[idx].append(sum_map1)\n",
        "        for sum_maps in zip(*imgs_sum_maps):\n",
        "                features = torch.cat(sum_maps, dim=0)\n",
        "                weights = self._generator(features)\n",
        "                current_fusion = torch.zeros(tensors[0].shape).to(device)\n",
        "                for idx, tensor_img in enumerate(tensors):\n",
        "                    current_fusion += (tensor_img) * weights[idx,0]\n",
        "        return current_fusion\n",
        "    def _generator(self, tensor1):\n",
        "            \"\"\"\n",
        "            A private method which compute generator ouput of a given tensor\n",
        "            \"\"\"\n",
        "            arr1=(tensor1[0][0]).cpu().detach().numpy()\n",
        "            arr2=(tensor1[1][0]).cpu().detach().numpy()\n",
        "            WA=fast_glcm.fast_glcm_mean(arr1)\n",
        "            WB=fast_glcm.fast_glcm_mean(arr2)\n",
        "            for i in range(256):\n",
        "              for j in range(256):\n",
        "                if(WA[i][j]>WB[i][j]):\n",
        "                      tensor1[0][0][i][j]=1\n",
        "                      tensor1[1][0][i][j]=0\n",
        "                elif(WA[i][j]<WB[i][j]):\n",
        "                      tensor1[0][0][i][j]=0\n",
        "                      tensor1[1][0][i][j]=1\n",
        "                elif(WA[i][j]==WB[i][j]):\n",
        "                    tensor1[0][0][i][j]=0.5\n",
        "                    tensor1[1][0][i][j]=0.5\n",
        "            return(tensor1)\n",
        "    def fast_glcm_mean(self, img, vmin=0, vmax=255, nbit=8, ks=5):\n",
        "\n",
        "        h,w = img.size()\n",
        "        glcm = self.fast_glcm(img, vmin, vmax, nbit, ks)\n",
        "        mean = torch.zeros((h,w), dtype=torch.float32)\n",
        "        for i in range(nbit):\n",
        "            for j in range(nbit):\n",
        "                mean += glcm[i,j] * i / (nbit)**2\n",
        "\n",
        "        return mean\n",
        "    def fast_glcm(self,img, vmin=0, vmax=255, nbit=8, kernel_size=5):\n",
        "        mi, ma = vmin, vmax\n",
        "        ks = kernel_size\n",
        "        h,w = img.size()\n",
        "        bins = (torch.linspace(mi, ma+1, nbit+1)).to(device)\n",
        "        gl1 = torch.bucketize(img, bins)-1\n",
        "        gl2 = torch.cat((gl1[:,1:], gl1[:,-1:]), axis=1)\n",
        "\n",
        "        # make glcm\n",
        "        glcm = torch.zeros((nbit, nbit, h, w), dtype=torch.uint8)\n",
        "        for i in range(nbit):\n",
        "            for j in range(nbit):\n",
        "                mask = ((gl1==i) & (gl2==j))\n",
        "                glcm[i,j, mask] = 1\n",
        "        glcm = glcm.type(torch.float32)\n",
        "        return glcm\n",
        "\n",
        "\n",
        "\n",
        "\n",
        "\n",
        "def myProposed(fuse_scheme=0):\n",
        "    # pretrained resnet101\n",
        "    resnet = models.resnet101(pretrained=True)\n",
        "    # our model\n",
        "    model = Proposed(resnet, fuse_scheme=fuse_scheme)\n",
        "    return model\n",
        "cnn = myProposed().to(device)\n",
        "cnn = cnn.float()\n",
        "print(cnn)"
      ]
    },
    {
      "cell_type": "code",
      "execution_count": null,
      "metadata": {
        "id": "tdwvtUfwgT5O"
      },
      "outputs": [],
      "source": [
        "def gaussian(window_size, sigma):\n",
        "    \"\"\"\n",
        "    Generates a list of Tensor values drawn from a gaussian distribution with standard\n",
        "    diviation = sigma and sum of all elements = 1.\n",
        "\n",
        "    Length of list = window_size\n",
        "    \"\"\"\n",
        "    gauss =  torch.Tensor([math.exp(-(x - window_size//2)**2/float(2*sigma**2)) for x in range(window_size)])\n",
        "    return gauss/gauss.sum()\n",
        "def create_window(window_size, channel=1):\n",
        "\n",
        "    # Generate an 1D tensor containing values sampled from a gaussian distribution\n",
        "    _1d_window = gaussian(window_size=window_size, sigma=1.5).unsqueeze(1)\n",
        "\n",
        "    # Converting to 2D\n",
        "    _2d_window = _1d_window.mm(_1d_window.t()).float().unsqueeze(0).unsqueeze(0)\n",
        "\n",
        "    window = torch.Tensor(_2d_window.expand(channel, 1, window_size, window_size).contiguous())\n",
        "\n",
        "    return window\n",
        "\n",
        "def ssim(img1, img2, val_range, window_size=11, window=None, size_average=True, full=False):\n",
        "\n",
        "    L = val_range # L is the dynamic range of the pixel values (255 for 8-bit grayscale images),\n",
        "\n",
        "    pad = window_size // 2\n",
        "\n",
        "    try:\n",
        "        _, channels, height, width = img1.size()\n",
        "    except:\n",
        "        channels, height, width = img1.size()\n",
        "\n",
        "    # if window is not provided, init one\n",
        "    if window is None:\n",
        "        real_size = min(window_size, height, width) # window should be atleast 11x11\n",
        "        window = create_window(real_size, channel=channels).to(img1.device)\n",
        "\n",
        "    # calculating the mu parameter (locally) for both images using a gaussian filter\n",
        "    # calculates the luminosity params\n",
        "    mu1 = F.conv2d(img1, window, padding=pad, groups=channels)\n",
        "    mu2 = F.conv2d(img2, window, padding=pad, groups=channels)\n",
        "\n",
        "    mu1_sq = mu1 ** 2\n",
        "    mu2_sq = mu2 ** 2\n",
        "    mu12 = mu1 * mu2\n",
        "\n",
        "    # now we calculate the sigma square parameter\n",
        "    # Sigma deals with the contrast component\n",
        "    sigma1_sq = F.conv2d(img1 * img1, window, padding=pad, groups=channels) - mu1_sq\n",
        "    sigma2_sq = F.conv2d(img2 * img2, window, padding=pad, groups=channels) - mu2_sq\n",
        "    sigma12 =  F.conv2d(img1 * img2, window, padding=pad, groups=channels) - mu12\n",
        "\n",
        "    # Some constants for stability\n",
        "    C1 = (0.01 ) ** 2  # NOTE: Removed L from here (ref PT implementation)\n",
        "    C2 = (0.03 ) ** 2\n",
        "\n",
        "    contrast_metric = (2.0 * sigma12 + C2) / (sigma1_sq + sigma2_sq + C2)\n",
        "    contrast_metric = torch.mean(contrast_metric)\n",
        "\n",
        "    numerator1 = 2 * mu12 + C1\n",
        "    numerator2 = 2 * sigma12 + C2\n",
        "    denominator1 = mu1_sq + mu2_sq + C1\n",
        "    denominator2 = sigma1_sq + sigma2_sq + C2\n",
        "\n",
        "    ssim_score = (numerator1 * numerator2) / (denominator1 * denominator2)\n",
        "\n",
        "    if size_average:\n",
        "        ret = ssim_score.mean()\n",
        "    else:\n",
        "        ret = ssim_score.mean(1).mean(1).mean(1)\n",
        "\n",
        "    if full:\n",
        "        return ret, contrast_metric\n",
        "\n",
        "    return ret\n"
      ]
    },
    {
      "cell_type": "code",
      "execution_count": null,
      "metadata": {
        "id": "5QWnKGDMHFlQ"
      },
      "outputs": [],
      "source": [
        "import torch.nn as nn\n",
        "torch.set_printoptions(profile=\"full\")\n",
        "optimizer = torch.optim.Adam(cnn.parameters(), lr=learning_rate)   # optimize all cnn parameters\n",
        "l2_loss   = torch.nn.MSELoss()#MSEloss"
      ]
    },
    {
      "cell_type": "code",
      "execution_count": null,
      "metadata": {
        "colab": {
          "base_uri": "https://localhost:8080/",
          "height": 725
        },
        "id": "cMfh9ykwUfKx",
        "outputId": "f52e95ba-7925-4192-a214-7bc5263a6876"
      },
      "outputs": [
        {
          "output_type": "stream",
          "name": "stdout",
          "text": [
            "Epoch: [ 0],step: [100], mri_ssim_loss: [0.30738115], ct_ssim_loss: [0.33473599],  total_ssim_loss: [0.32105857], total_l2_loss: [3535.54052734], total_loss: [1767.93078613]\n",
            "Epoch: [ 0],step: [200], mri_ssim_loss: [0.29050833], ct_ssim_loss: [0.35055429],  total_ssim_loss: [0.32053131], total_l2_loss: [3688.38574219], total_loss: [1844.35314941]\n",
            "Epoch: [ 1],step: [300], mri_ssim_loss: [0.38097668], ct_ssim_loss: [0.33901888],  total_ssim_loss: [0.35999778], total_l2_loss: [5186.67578125], total_loss: [2593.51782227]\n",
            "Epoch: [ 1],step: [400], mri_ssim_loss: [0.26109701], ct_ssim_loss: [0.28459066],  total_ssim_loss: [0.27284384], total_l2_loss: [3270.76245117], total_loss: [1635.51770020]\n",
            "Epoch: [ 2],step: [500], mri_ssim_loss: [0.44654393], ct_ssim_loss: [0.47040439],  total_ssim_loss: [0.45847416], total_l2_loss: [5238.34326172], total_loss: [2619.40087891]\n",
            "Epoch: [ 2],step: [600], mri_ssim_loss: [0.26314235], ct_ssim_loss: [0.20840192],  total_ssim_loss: [0.23577213], total_l2_loss: [3347.94458008], total_loss: [1674.09020996]\n",
            "Epoch: [ 3],step: [700], mri_ssim_loss: [0.44347942], ct_ssim_loss: [0.50559890],  total_ssim_loss: [0.47453916], total_l2_loss: [4577.38916016], total_loss: [2288.93188477]\n",
            "Epoch: [ 3],step: [800], mri_ssim_loss: [0.26018667], ct_ssim_loss: [0.13788450],  total_ssim_loss: [0.19903558], total_l2_loss: [4840.65136719], total_loss: [2420.42529297]\n"
          ]
        },
        {
          "output_type": "error",
          "ename": "KeyboardInterrupt",
          "evalue": "ignored",
          "traceback": [
            "\u001b[0;31m---------------------------------------------------------------------------\u001b[0m",
            "\u001b[0;31mKeyboardInterrupt\u001b[0m                         Traceback (most recent call last)",
            "\u001b[0;32m<ipython-input-20-230a45cf0f1c>\u001b[0m in \u001b[0;36m<module>\u001b[0;34m()\u001b[0m\n\u001b[1;32m     40\u001b[0m         \u001b[0mloss_total\u001b[0m \u001b[0;34m=\u001b[0m \u001b[0mlamda\u001b[0m\u001b[0;34m*\u001b[0m\u001b[0mssim_total\u001b[0m \u001b[0;34m+\u001b[0m \u001b[0;34m(\u001b[0m\u001b[0;36m1\u001b[0m\u001b[0;34m-\u001b[0m\u001b[0mlamda\u001b[0m\u001b[0;34m)\u001b[0m\u001b[0;34m*\u001b[0m\u001b[0ml2_total\u001b[0m\u001b[0;34m\u001b[0m\u001b[0;34m\u001b[0m\u001b[0m\n\u001b[1;32m     41\u001b[0m         \u001b[0moptimizer\u001b[0m\u001b[0;34m.\u001b[0m\u001b[0mzero_grad\u001b[0m\u001b[0;34m(\u001b[0m\u001b[0;34m)\u001b[0m           \u001b[0;31m# clear gradients for this training step\u001b[0m\u001b[0;34m\u001b[0m\u001b[0;34m\u001b[0m\u001b[0m\n\u001b[0;32m---> 42\u001b[0;31m         \u001b[0mloss_total\u001b[0m\u001b[0;34m.\u001b[0m\u001b[0mbackward\u001b[0m\u001b[0;34m(\u001b[0m\u001b[0;34m)\u001b[0m          \u001b[0;31m# backpropagation, compute gradients\u001b[0m\u001b[0;34m\u001b[0m\u001b[0;34m\u001b[0m\u001b[0m\n\u001b[0m\u001b[1;32m     43\u001b[0m         \u001b[0moptimizer\u001b[0m\u001b[0;34m.\u001b[0m\u001b[0mstep\u001b[0m\u001b[0;34m(\u001b[0m\u001b[0;34m)\u001b[0m                \u001b[0;31m# apply gradients\u001b[0m\u001b[0;34m\u001b[0m\u001b[0;34m\u001b[0m\u001b[0m\n\u001b[1;32m     44\u001b[0m \u001b[0;34m\u001b[0m\u001b[0m\n",
            "\u001b[0;32m/usr/local/lib/python3.7/dist-packages/torch/_tensor.py\u001b[0m in \u001b[0;36mbackward\u001b[0;34m(self, gradient, retain_graph, create_graph, inputs)\u001b[0m\n\u001b[1;32m    361\u001b[0m                 \u001b[0mcreate_graph\u001b[0m\u001b[0;34m=\u001b[0m\u001b[0mcreate_graph\u001b[0m\u001b[0;34m,\u001b[0m\u001b[0;34m\u001b[0m\u001b[0;34m\u001b[0m\u001b[0m\n\u001b[1;32m    362\u001b[0m                 inputs=inputs)\n\u001b[0;32m--> 363\u001b[0;31m         \u001b[0mtorch\u001b[0m\u001b[0;34m.\u001b[0m\u001b[0mautograd\u001b[0m\u001b[0;34m.\u001b[0m\u001b[0mbackward\u001b[0m\u001b[0;34m(\u001b[0m\u001b[0mself\u001b[0m\u001b[0;34m,\u001b[0m \u001b[0mgradient\u001b[0m\u001b[0;34m,\u001b[0m \u001b[0mretain_graph\u001b[0m\u001b[0;34m,\u001b[0m \u001b[0mcreate_graph\u001b[0m\u001b[0;34m,\u001b[0m \u001b[0minputs\u001b[0m\u001b[0;34m=\u001b[0m\u001b[0minputs\u001b[0m\u001b[0;34m)\u001b[0m\u001b[0;34m\u001b[0m\u001b[0;34m\u001b[0m\u001b[0m\n\u001b[0m\u001b[1;32m    364\u001b[0m \u001b[0;34m\u001b[0m\u001b[0m\n\u001b[1;32m    365\u001b[0m     \u001b[0;32mdef\u001b[0m \u001b[0mregister_hook\u001b[0m\u001b[0;34m(\u001b[0m\u001b[0mself\u001b[0m\u001b[0;34m,\u001b[0m \u001b[0mhook\u001b[0m\u001b[0;34m)\u001b[0m\u001b[0;34m:\u001b[0m\u001b[0;34m\u001b[0m\u001b[0;34m\u001b[0m\u001b[0m\n",
            "\u001b[0;32m/usr/local/lib/python3.7/dist-packages/torch/autograd/__init__.py\u001b[0m in \u001b[0;36mbackward\u001b[0;34m(tensors, grad_tensors, retain_graph, create_graph, grad_variables, inputs)\u001b[0m\n\u001b[1;32m    173\u001b[0m     Variable._execution_engine.run_backward(  # Calls into the C++ engine to run the backward pass\n\u001b[1;32m    174\u001b[0m         \u001b[0mtensors\u001b[0m\u001b[0;34m,\u001b[0m \u001b[0mgrad_tensors_\u001b[0m\u001b[0;34m,\u001b[0m \u001b[0mretain_graph\u001b[0m\u001b[0;34m,\u001b[0m \u001b[0mcreate_graph\u001b[0m\u001b[0;34m,\u001b[0m \u001b[0minputs\u001b[0m\u001b[0;34m,\u001b[0m\u001b[0;34m\u001b[0m\u001b[0;34m\u001b[0m\u001b[0m\n\u001b[0;32m--> 175\u001b[0;31m         allow_unreachable=True, accumulate_grad=True)  # Calls into the C++ engine to run the backward pass\n\u001b[0m\u001b[1;32m    176\u001b[0m \u001b[0;34m\u001b[0m\u001b[0m\n\u001b[1;32m    177\u001b[0m def grad(\n",
            "\u001b[0;31mKeyboardInterrupt\u001b[0m: "
          ]
        },
        {
          "output_type": "display_data",
          "data": {
            "text/plain": [
              "<Figure size 2160x2160 with 4 Axes>"
            ],
            "image/png": "[encoded data removed]"
          },
          "metadata": {
            "needs_background": "light"
          }
        }
      ],
      "source": [
        "# perform the training\n",
        "BS=2\n",
        "counter = 0\n",
        "start_time = time.time()\n",
        "lamda = 0.5\n",
        "gamma_ssim = 0.5\n",
        "gamma_l2 = 0.5\n",
        "ep_ssim_mri_loss = []\n",
        "ep_ssim_ct_loss = []\n",
        "ep_l2_mri_loss = []\n",
        "ep_l2_ct_loss = []\n",
        "ep_total_loss=[]\n",
        "fig=plt.figure(figsize=(30,30))\n",
        "for epoch in range(EPOCH):\n",
        "    ssim_mri_Loss = []\n",
        "    ssim_ct_Loss = []\n",
        "    l2_mri_Loss = []\n",
        "    l2_ct_Loss = []\n",
        "    total_loss=[]\n",
        "    #run batch images\n",
        "    batch_idxs = 204 // batch_size\n",
        "    cnn.train(True)\n",
        "    for idx in range(batch_idxs):\n",
        "        b_x = train_mri_tensor[idx].type(torch.float32).to(device)\n",
        "        b_y = train_ct_tensor[idx].type(torch.float32).to(device)\n",
        "\n",
        "        counter += 1\n",
        "        output = cnn(b_x,b_y)\n",
        "        if(idx==18):\n",
        "          fig.add_subplot(15,15,epoch+1)\n",
        "          plt.imshow(np.squeeze(output.cpu().detach().numpy()))\n",
        "\n",
        "              # cnn output\n",
        "        ssim_loss_mri = 1 - ssim(output,b_x,val_range=1)\n",
        "        ssim_loss_ct = 1 - ssim(output, b_y,val_range=1)\n",
        "        l2_loss_mri   = l2_loss(output,b_x)\n",
        "        l2_loss_ct   = l2_loss(output,b_y)\n",
        "        ssim_total = gamma_ssim*ssim_loss_mri + (1-gamma_ssim)*ssim_loss_ct\n",
        "        l2_total = gamma_l2*l2_loss_mri + (1-gamma_l2)*l2_loss_ct\n",
        "        loss_total = lamda*ssim_total + (1-lamda)*l2_total\n",
        "        optimizer.zero_grad()           # clear gradients for this training step\n",
        "        loss_total.backward()          # backpropagation, compute gradients\n",
        "        optimizer.step()                # apply gradients\n",
        "\n",
        "        #store all the loss values at each epoch\n",
        "        ssim_mri_Loss.append(ssim_loss_mri.item())\n",
        "        ssim_ct_Loss.append(ssim_loss_ct.item())\n",
        "        l2_mri_Loss.append(l2_loss_mri.item())\n",
        "        l2_ct_Loss.append(l2_loss_ct.item())\n",
        "        total_loss.append(loss_total.item())\n",
        "\n",
        "        if counter % 100 == 0:\n",
        "            print(\"Epoch: [%2d],step: [%2d], mri_ssim_loss: [%.8f], ct_ssim_loss: [%.8f],  total_ssim_loss: [%.8f], total_l2_loss: [%.8f], total_loss: [%.8f]\"\n",
        "            %(epoch, counter, ssim_loss_mri, ssim_loss_ct, ssim_total, l2_total, loss_total))\n",
        "    cnn.train(False)\n",
        "    av_ssim_mri_loss = np.average(ssim_mri_Loss)\n",
        "    ep_ssim_mri_loss.append(av_ssim_mri_loss)\n",
        "\n",
        "    av_ssim_ct_loss = np.average(ssim_ct_Loss)\n",
        "    ep_ssim_ct_loss.append(av_ssim_ct_loss)\n",
        "\n",
        "    av_l2_mri_loss = np.average(l2_mri_Loss)\n",
        "    ep_l2_mri_loss.append(av_l2_mri_loss)\n",
        "\n",
        "    av_l2_ct_loss = np.average(l2_ct_Loss)\n",
        "    ep_l2_ct_loss.append(av_l2_ct_loss)\n",
        "    av=np.average(total_loss)\n",
        "    ep_total_loss.append(av)\n",
        "\n",
        "\n",
        "    if(epoch==EPOCH-1):\n",
        "      #Save a checkpoint\n",
        "      torch.save(cnn.state_dict(), 'GLCM1.pth')\n",
        "for p in cnn.state_dict():\n",
        "  print(p, \"\\t\", cnn.state_dict()[p].size())"
      ]
    },
    {
      "cell_type": "code",
      "source": [
        "torch.save(cnn.state_dict(), 'GLCM1.pth')\n"
      ],
      "metadata": {
        "id": "i0bUpfDzEN2Y"
      },
      "execution_count": null,
      "outputs": []
    },
    {
      "cell_type": "code",
      "execution_count": null,
      "metadata": {
        "id": "exYBt60nUfKy"
      },
      "outputs": [],
      "source": [
        "l1 = np.asarray(ep_ssim_mri_loss)\n",
        "l2 = np.asarray(ep_ssim_ct_loss)\n",
        "l3 = np.asarray(ep_l2_mri_loss)\n",
        "l4 = np.asarray(ep_l2_ct_loss)\n",
        "l5 = np.asarray(ep_total_loss)"
      ]
    },
    {
      "cell_type": "code",
      "execution_count": null,
      "metadata": {
        "id": "51ni7utAUfKy"
      },
      "outputs": [],
      "source": [
        "h5f = h5py.File('gamma_0.5_0.5_ssim_mri.h5', 'w')\n",
        "h5f.create_dataset('data', data=l1)\n",
        "h5f.close()\n",
        "\n",
        "h5f = h5py.File('gamma_0.5_0.5_ssim_ct.h5', 'w')\n",
        "h5f.create_dataset('data', data=l2)\n",
        "h5f.close()\n",
        "\n",
        "h5f = h5py.File('gamma_0.5_0.5_l2_mri.h5', 'w')\n",
        "h5f.create_dataset('data', data=l3)\n",
        "h5f.close()\n",
        "\n",
        "h5f = h5py.File('gamma_0.5_0.5_l2_ct.h5', 'w')\n",
        "h5f.create_dataset('data', data=l4)\n",
        "h5f.close()"
      ]
    },
    {
      "cell_type": "code",
      "execution_count": null,
      "metadata": {
        "colab": {
          "base_uri": "https://localhost:8080/",
          "height": 359
        },
        "id": "wA51U9U8UfKz",
        "outputId": "5595cf27-b599-4be0-8170-e19242e0f9d4"
      },
      "outputs": [
        {
          "name": "stderr",
          "output_type": "stream",
          "text": [
            "WARNING:matplotlib.backends.backend_ps:The PostScript backend does not support transparency; partially transparent artists will be rendered opaque.\n",
            "WARNING:matplotlib.backends.backend_ps:The PostScript backend does not support transparency; partially transparent artists will be rendered opaque.\n"
          ]
        },
        {
          "data": {
            "image/png": "[encoded data removed]",
            "text/plain": [
              "<Figure size 432x288 with 1 Axes>"
            ]
          },
          "metadata": {},
          "output_type": "display_data"
        }
      ],
      "source": [
        "#FunFuseAn SSIM gamma_ssim = 0.1 gamma_l2 = 0.1\n",
        "fontP = FontProperties()\n",
        "fontP.set_size('large')\n",
        "plt.plot(l1,'b',label='$1-SSIM_{MRI}$')\n",
        "plt.plot(l2,'c',label='$1-SSIM_{ct}$')\n",
        "plt.plot(l5,'g',label='$Total_Loss$')\n",
        "plt.xlabel('epoch',fontsize= 15)\n",
        "plt.ylabel('Loss values',fontsize= 15)\n",
        "plt.legend(loc=1, prop=fontP)\n",
        "plt.title('FunFuseAn $\\lambda = 0.08, \\gamma_{ssim} = 0.5, \\gamma_{l2} = 0.5$',fontsize='15')\n",
        "plt.savefig('gamma_0.5_0.5_ssim.eps', format='eps', dpi=100)"
      ]
    },
    {
      "cell_type": "code",
      "execution_count": null,
      "metadata": {
        "colab": {
          "base_uri": "https://localhost:8080/",
          "height": 359
        },
        "id": "SFD3dIeHUfK0",
        "outputId": "6cc50770-37aa-4526-c2ef-13f3726d23cd"
      },
      "outputs": [
        {
          "name": "stderr",
          "output_type": "stream",
          "text": [
            "WARNING:matplotlib.backends.backend_ps:The PostScript backend does not support transparency; partially transparent artists will be rendered opaque.\n",
            "WARNING:matplotlib.backends.backend_ps:The PostScript backend does not support transparency; partially transparent artists will be rendered opaque.\n"
          ]
        },
        {
          "data": {
            "image/png": "[encoded data removed]",
            "text/plain": [
              "<Figure size 432x288 with 1 Axes>"
            ]
          },
          "metadata": {},
          "output_type": "display_data"
        }
      ],
      "source": [
        "#FunFuseAn L2 gamma_ssim = 0.1 gamma_l2 = 0.1\n",
        "fontP = FontProperties()\n",
        "fontP.set_size('large')\n",
        "plt.plot(l3,'b',label='$l2_{MRI}$')\n",
        "plt.plot(l4,'c',label='$l2_{ct}$')\n",
        "plt.xlabel('epoch',fontsize= 15)\n",
        "plt.ylabel('Loss values',fontsize= 15)\n",
        "plt.legend(loc=1, prop=fontP)\n",
        "plt.title('FunFuseAn $\\lambda = 0.8, \\gamma_{ssim} = 0.5, \\gamma_{l2} = 0.5$',fontsize='15')\n",
        "plt.savefig('gamma_0.5_0.5_l2.eps', format='eps', dpi=100)"
      ]
    },
    {
      "cell_type": "code",
      "execution_count": null,
      "metadata": {
        "id": "D03rMU5UUyDS"
      },
      "outputs": [],
      "source": [
        "from PIL import Image"
      ]
    },
    {
      "cell_type": "code",
      "execution_count": null,
      "metadata": {
        "id": "tpfVmHXrrydj"
      },
      "outputs": [],
      "source": [
        "model = myProposed()\n",
        "model.load_state_dict(torch.load('GLCMlogic2.pth'))\n",
        "model.eval()\n",
        "model = model.cuda()"
      ]
    },
    {
      "cell_type": "code",
      "execution_count": null,
      "metadata": {
        "id": "MVTuGzED-HpD"
      },
      "outputs": [],
      "source": [
        "from imageio.core.functions import imread\n",
        "import numpy as np\n",
        "img1=imread(\"c07_1.gif\")\n",
        "img2=imread(\"c07_2.gif\")\n",
        "img1=np.expand_dims(img1,axis=0)\n",
        "img1=np.expand_dims(img1,axis=0)\n",
        "img2=np.expand_dims(img2,axis=0)\n",
        "img2=np.expand_dims(img2,axis=0)"
      ]
    },
    {
      "cell_type": "code",
      "execution_count": null,
      "metadata": {
        "id": "LtekTKD8odwM"
      },
      "outputs": [],
      "source": [
        "tensorimg1=torch.from_numpy(img1).float().to(device)\n",
        "tensorimg2=torch.from_numpy(img2).float().to(device)\n",
        "\n"
      ]
    },
    {
      "cell_type": "code",
      "execution_count": null,
      "metadata": {
        "id": "BEta0WGzC-ua",
        "colab": {
          "base_uri": "https://localhost:8080/",
          "height": 311
        },
        "outputId": "c7a299e8-4cce-42a9-c3e4-c7f68184b3c4"
      },
      "outputs": [
        {
          "output_type": "error",
          "ename": "AttributeError",
          "evalue": "ignored",
          "traceback": [
            "\u001b[0;31m---------------------------------------------------------------------------\u001b[0m",
            "\u001b[0;31mAttributeError\u001b[0m                            Traceback (most recent call last)",
            "\u001b[0;32m<ipython-input-68-4fc8507e3a74>\u001b[0m in \u001b[0;36m<module>\u001b[0;34m()\u001b[0m\n\u001b[0;32m----> 1\u001b[0;31m \u001b[0mfused\u001b[0m\u001b[0;34m=\u001b[0m\u001b[0mmodel\u001b[0m\u001b[0;34m(\u001b[0m\u001b[0mtensorimg1\u001b[0m\u001b[0;34m,\u001b[0m\u001b[0mtensorimg2\u001b[0m\u001b[0;34m)\u001b[0m\u001b[0;34m\u001b[0m\u001b[0;34m\u001b[0m\u001b[0m\n\u001b[0m",
            "\u001b[0;32m/usr/local/lib/python3.7/dist-packages/torch/nn/modules/module.py\u001b[0m in \u001b[0;36m_call_impl\u001b[0;34m(self, *input, **kwargs)\u001b[0m\n\u001b[1;32m   1108\u001b[0m         if not (self._backward_hooks or self._forward_hooks or self._forward_pre_hooks or _global_backward_hooks\n\u001b[1;32m   1109\u001b[0m                 or _global_forward_hooks or _global_forward_pre_hooks):\n\u001b[0;32m-> 1110\u001b[0;31m             \u001b[0;32mreturn\u001b[0m \u001b[0mforward_call\u001b[0m\u001b[0;34m(\u001b[0m\u001b[0;34m*\u001b[0m\u001b[0minput\u001b[0m\u001b[0;34m,\u001b[0m \u001b[0;34m**\u001b[0m\u001b[0mkwargs\u001b[0m\u001b[0;34m)\u001b[0m\u001b[0;34m\u001b[0m\u001b[0;34m\u001b[0m\u001b[0m\n\u001b[0m\u001b[1;32m   1111\u001b[0m         \u001b[0;31m# Do not call functions when jit is used\u001b[0m\u001b[0;34m\u001b[0m\u001b[0;34m\u001b[0m\u001b[0;34m\u001b[0m\u001b[0m\n\u001b[1;32m   1112\u001b[0m         \u001b[0mfull_backward_hooks\u001b[0m\u001b[0;34m,\u001b[0m \u001b[0mnon_full_backward_hooks\u001b[0m \u001b[0;34m=\u001b[0m \u001b[0;34m[\u001b[0m\u001b[0;34m]\u001b[0m\u001b[0;34m,\u001b[0m \u001b[0;34m[\u001b[0m\u001b[0;34m]\u001b[0m\u001b[0;34m\u001b[0m\u001b[0;34m\u001b[0m\u001b[0m\n",
            "\u001b[0;32m<ipython-input-59-5f6c784bb0b9>\u001b[0m in \u001b[0;36mforward\u001b[0;34m(self, *tensors)\u001b[0m\n\u001b[1;32m     61\u001b[0m     \u001b[0;32mdef\u001b[0m \u001b[0mforward\u001b[0m\u001b[0;34m(\u001b[0m\u001b[0mself\u001b[0m\u001b[0;34m,\u001b[0m \u001b[0;34m*\u001b[0m\u001b[0mtensors\u001b[0m\u001b[0;34m)\u001b[0m\u001b[0;34m:\u001b[0m\u001b[0;34m\u001b[0m\u001b[0;34m\u001b[0m\u001b[0m\n\u001b[1;32m     62\u001b[0m         \u001b[0;31m# Feature extraction\u001b[0m\u001b[0;34m\u001b[0m\u001b[0;34m\u001b[0m\u001b[0;34m\u001b[0m\u001b[0m\n\u001b[0;32m---> 63\u001b[0;31m         \u001b[0mouts\u001b[0m \u001b[0;34m=\u001b[0m \u001b[0mself\u001b[0m\u001b[0;34m.\u001b[0m\u001b[0moperate\u001b[0m\u001b[0;34m(\u001b[0m\u001b[0mself\u001b[0m\u001b[0;34m.\u001b[0m\u001b[0mconv1\u001b[0m\u001b[0;34m,\u001b[0m \u001b[0mtensors\u001b[0m\u001b[0;34m)\u001b[0m\u001b[0;34m\u001b[0m\u001b[0;34m\u001b[0m\u001b[0m\n\u001b[0m\u001b[1;32m     64\u001b[0m         \u001b[0mouts\u001b[0m \u001b[0;34m=\u001b[0m \u001b[0mself\u001b[0m\u001b[0;34m.\u001b[0m\u001b[0moperate\u001b[0m\u001b[0;34m(\u001b[0m\u001b[0mself\u001b[0m\u001b[0;34m.\u001b[0m\u001b[0mconv2\u001b[0m\u001b[0;34m,\u001b[0m \u001b[0mouts\u001b[0m\u001b[0;34m)\u001b[0m\u001b[0;34m\u001b[0m\u001b[0;34m\u001b[0m\u001b[0m\n\u001b[1;32m     65\u001b[0m         \u001b[0mimgs_sum_maps\u001b[0m \u001b[0;34m=\u001b[0m \u001b[0;34m[\u001b[0m\u001b[0;34m-\u001b[0m\u001b[0;36m1\u001b[0m \u001b[0;32mfor\u001b[0m \u001b[0mtensor_img\u001b[0m \u001b[0;32min\u001b[0m \u001b[0mtensors\u001b[0m\u001b[0;34m]\u001b[0m\u001b[0;34m\u001b[0m\u001b[0;34m\u001b[0m\u001b[0m\n",
            "\u001b[0;32m<ipython-input-59-5f6c784bb0b9>\u001b[0m in \u001b[0;36moperate\u001b[0;34m(self, operator, tensors)\u001b[0m\n\u001b[1;32m     48\u001b[0m         \u001b[0mout_tensors\u001b[0m \u001b[0;34m=\u001b[0m \u001b[0;34m[\u001b[0m\u001b[0;34m]\u001b[0m\u001b[0;34m\u001b[0m\u001b[0;34m\u001b[0m\u001b[0m\n\u001b[1;32m     49\u001b[0m         \u001b[0;32mfor\u001b[0m \u001b[0mtensor\u001b[0m \u001b[0;32min\u001b[0m \u001b[0mtensors\u001b[0m\u001b[0;34m:\u001b[0m\u001b[0;34m\u001b[0m\u001b[0;34m\u001b[0m\u001b[0m\n\u001b[0;32m---> 50\u001b[0;31m             \u001b[0mout_tensor\u001b[0m \u001b[0;34m=\u001b[0m \u001b[0moperator\u001b[0m\u001b[0;34m(\u001b[0m\u001b[0mtensor\u001b[0m\u001b[0;34m)\u001b[0m\u001b[0;34m\u001b[0m\u001b[0;34m\u001b[0m\u001b[0m\n\u001b[0m\u001b[1;32m     51\u001b[0m             \u001b[0mout_tensors\u001b[0m\u001b[0;34m.\u001b[0m\u001b[0mappend\u001b[0m\u001b[0;34m(\u001b[0m\u001b[0mout_tensor\u001b[0m\u001b[0;34m)\u001b[0m\u001b[0;34m\u001b[0m\u001b[0;34m\u001b[0m\u001b[0m\n\u001b[1;32m     52\u001b[0m         \u001b[0;32mreturn\u001b[0m \u001b[0mout_tensors\u001b[0m\u001b[0;34m\u001b[0m\u001b[0;34m\u001b[0m\u001b[0m\n",
            "\u001b[0;32m/usr/local/lib/python3.7/dist-packages/torch/nn/modules/module.py\u001b[0m in \u001b[0;36m_call_impl\u001b[0;34m(self, *input, **kwargs)\u001b[0m\n\u001b[1;32m   1108\u001b[0m         if not (self._backward_hooks or self._forward_hooks or self._forward_pre_hooks or _global_backward_hooks\n\u001b[1;32m   1109\u001b[0m                 or _global_forward_hooks or _global_forward_pre_hooks):\n\u001b[0;32m-> 1110\u001b[0;31m             \u001b[0;32mreturn\u001b[0m \u001b[0mforward_call\u001b[0m\u001b[0;34m(\u001b[0m\u001b[0;34m*\u001b[0m\u001b[0minput\u001b[0m\u001b[0;34m,\u001b[0m \u001b[0;34m**\u001b[0m\u001b[0mkwargs\u001b[0m\u001b[0;34m)\u001b[0m\u001b[0;34m\u001b[0m\u001b[0;34m\u001b[0m\u001b[0m\n\u001b[0m\u001b[1;32m   1111\u001b[0m         \u001b[0;31m# Do not call functions when jit is used\u001b[0m\u001b[0;34m\u001b[0m\u001b[0;34m\u001b[0m\u001b[0;34m\u001b[0m\u001b[0m\n\u001b[1;32m   1112\u001b[0m         \u001b[0mfull_backward_hooks\u001b[0m\u001b[0;34m,\u001b[0m \u001b[0mnon_full_backward_hooks\u001b[0m \u001b[0;34m=\u001b[0m \u001b[0;34m[\u001b[0m\u001b[0;34m]\u001b[0m\u001b[0;34m,\u001b[0m \u001b[0;34m[\u001b[0m\u001b[0;34m]\u001b[0m\u001b[0;34m\u001b[0m\u001b[0;34m\u001b[0m\u001b[0m\n",
            "\u001b[0;32m<ipython-input-59-5f6c784bb0b9>\u001b[0m in \u001b[0;36mforward\u001b[0;34m(self, x)\u001b[0m\n\u001b[1;32m     23\u001b[0m \u001b[0;34m\u001b[0m\u001b[0m\n\u001b[1;32m     24\u001b[0m     \u001b[0;32mdef\u001b[0m \u001b[0mforward\u001b[0m\u001b[0;34m(\u001b[0m\u001b[0mself\u001b[0m\u001b[0;34m,\u001b[0m \u001b[0mx\u001b[0m\u001b[0;34m)\u001b[0m\u001b[0;34m:\u001b[0m\u001b[0;34m\u001b[0m\u001b[0;34m\u001b[0m\u001b[0m\n\u001b[0;32m---> 25\u001b[0;31m         \u001b[0mout\u001b[0m \u001b[0;34m=\u001b[0m \u001b[0mF\u001b[0m\u001b[0;34m.\u001b[0m\u001b[0mpad\u001b[0m\u001b[0;34m(\u001b[0m\u001b[0mx\u001b[0m\u001b[0;34m,\u001b[0m \u001b[0mself\u001b[0m\u001b[0;34m.\u001b[0m\u001b[0mpadding\u001b[0m\u001b[0;34m,\u001b[0m \u001b[0;34m'replicate'\u001b[0m\u001b[0;34m)\u001b[0m\u001b[0;34m\u001b[0m\u001b[0;34m\u001b[0m\u001b[0m\n\u001b[0m\u001b[1;32m     26\u001b[0m         \u001b[0mout\u001b[0m \u001b[0;34m=\u001b[0m \u001b[0mself\u001b[0m\u001b[0;34m.\u001b[0m\u001b[0mconv\u001b[0m\u001b[0;34m(\u001b[0m\u001b[0mout\u001b[0m\u001b[0;34m)\u001b[0m\u001b[0;34m\u001b[0m\u001b[0;34m\u001b[0m\u001b[0m\n\u001b[1;32m     27\u001b[0m         \u001b[0mout\u001b[0m \u001b[0;34m=\u001b[0m \u001b[0mself\u001b[0m\u001b[0;34m.\u001b[0m\u001b[0mbn\u001b[0m\u001b[0;34m(\u001b[0m\u001b[0mout\u001b[0m\u001b[0;34m)\u001b[0m\u001b[0;34m\u001b[0m\u001b[0;34m\u001b[0m\u001b[0m\n",
            "\u001b[0;31mAttributeError\u001b[0m: 'numpy.ndarray' object has no attribute 'pad'"
          ]
        }
      ],
      "source": [
        "fused=model(tensorimg1,tensorimg2)\n"
      ]
    },
    {
      "cell_type": "code",
      "execution_count": null,
      "metadata": {
        "id": "yExIY8LPDpmA"
      },
      "outputs": [],
      "source": [
        "nufu=fused.cpu().detach().numpy()"
      ]
    },
    {
      "cell_type": "code",
      "execution_count": null,
      "metadata": {
        "id": "uzxCudFFDxi1"
      },
      "outputs": [],
      "source": [
        "ffused=np.squeeze(nufu)"
      ]
    },
    {
      "cell_type": "code",
      "execution_count": null,
      "metadata": {
        "id": "YTR5Awh9EaMu",
        "colab": {
          "base_uri": "https://localhost:8080/",
          "height": 286
        },
        "outputId": "5e647f2e-22fc-4343-d2bb-633a653ac883"
      },
      "outputs": [
        {
          "output_type": "execute_result",
          "data": {
            "text/plain": [
              "<matplotlib.image.AxesImage at 0x7f70622f0250>"
            ]
          },
          "metadata": {},
          "execution_count": 66
        },
        {
          "output_type": "display_data",
          "data": {
            "text/plain": [
              "<Figure size 432x288 with 1 Axes>"
            ],
            "image/png": "[encoded data removed]"
          },
          "metadata": {
            "needs_background": "light"
          }
        }
      ],
      "source": [
        "plt.imshow(ffused)\n",
        "#matplotlib.image.imsave('Resultsfinal/P07.gif', ffused)"
      ]
    },
    {
      "cell_type": "code",
      "source": [
        "from matplotlib.transforms import offset_copy\n",
        "from matplotlib.offsetbox import OffsetImage\n",
        "from imageio.core.functions import imread\n",
        "DCS_arr=[]\n",
        "for i in range(204):\n",
        "  A=np.squeeze(train_mri[i])\n",
        "  B=np.squeeze(train_ct[i])\n",
        "  F=train_gt[i]\n",
        "  def DCS(A,B):\n",
        "    num=0\n",
        "    dem=0\n",
        "    for i in range(256):\n",
        "      for j in range(256):\n",
        "        if(A[i][j]==B[i][j]):\n",
        "          num=num+1\n",
        "        else:\n",
        "          dem=dem+1\n",
        "    return(num/dem)\n",
        "  h=np.array([[-1,0,1],[-2,0,2],[-1,0,1]])\n",
        "  v=np.array([[-1,-2,-1],[0,0,0],[1,2,1]])\n",
        "  Ah=cv2.filter2D(A,-1,h)\n",
        "  Av=cv2.filter2D(A,-1,v)\n",
        "  SA=(Ah*2+Av*2)*0.5\n",
        "  Bh=cv2.filter2D(B,-1,h)\n",
        "  Bv=cv2.filter2D(B,-1,v)\n",
        "  SB=(Bh*2+Bv*2)*0.5\n",
        "  Fh=cv2.filter2D(F,-1,h)\n",
        "  Fv=cv2.filter2D(F,-1,v)\n",
        "  SF=(Fh*2+Fv*Fv)*0.5\n",
        "\n",
        "  for i in range(256):\n",
        "    for j in range(256):\n",
        "      SA[i][j]=np.sqrt(Ah[i][j]*2+Av[i][j]*2)\n",
        "      SB[i][j]=np.sqrt(Bh[i][j]*2+Bv[i][j]*2)\n",
        "      SF[i][j]=np.sqrt(Fh[i][j]*2+Fv[i][j]*2)\n",
        "  DCS_arr.append(DCS(SA,SF)+DCS(SB,SF))\n",
        "print(sum(DCS_arr)/204)\n",
        "\n",
        "\n",
        "\n"
      ],
      "metadata": {
        "id": "CUD-pVcZF81J",
        "colab": {
          "base_uri": "https://localhost:8080/"
        },
        "outputId": "7841ee63-37aa-4c10-a692-30b0a2bfad53"
      },
      "execution_count": null,
      "outputs": [
        {
          "output_type": "stream",
          "name": "stderr",
          "text": [
            "/usr/local/lib/python3.7/dist-packages/ipykernel_launcher.py:35: RuntimeWarning: invalid value encountered in sqrt\n",
            "/usr/local/lib/python3.7/dist-packages/ipykernel_launcher.py:33: RuntimeWarning: invalid value encountered in sqrt\n",
            "/usr/local/lib/python3.7/dist-packages/ipykernel_launcher.py:34: RuntimeWarning: invalid value encountered in sqrt\n"
          ]
        },
        {
          "output_type": "stream",
          "name": "stdout",
          "text": [
            "3.282892718147154\n"
          ]
        }
      ]
    },
    {
      "cell_type": "code",
      "source": [
        "from matplotlib.transforms import offset_copy\n",
        "from matplotlib.offsetbox import OffsetImage\n",
        "from imageio.core.functions import imread\n",
        "np.set_printoptions(threshold=sys.maxsize)\n",
        "plt.rcParams['image.cmap'] = 'gray'\n",
        "def DCS(A,B):\n",
        "  num=0\n",
        "  dem=0\n",
        "  for i in range(256):\n",
        "    for j in range(256):\n",
        "      if(A[i][j]==B[i][j]):\n",
        "        num=num+1\n",
        "      else:\n",
        "        dem=dem+1\n",
        "  return(num/dem)\n",
        "import math\n",
        "def arctan(RF):\n",
        "  an=15*RF-0.5\n",
        "  return(0.5*(np.tanh(an)+0.5))\n",
        "A=imread(\"c07_1.gif\")\n",
        "A=np.array(A)\n",
        "B=imread(\"c07_2.gif\")\n",
        "B=np.array(B)\n",
        "F=np.array(imread(\"Results2/P07.gif\"))\n",
        "#F=cv2.cvtColor(F, cv2.COLOR_RGB2GRAY)\n",
        "h=np.array([[-1,0,1],[-2,0,2],[-1,0,1]])\n",
        "v=np.array([[-1,-2,-1],[0,0,0],[1,2,1]])\n",
        "Ah=cv2.filter2D(A,-1,h)\n",
        "Av=cv2.filter2D(A,-1,v)\n",
        "SA=(Ah*2+Av*2)*0.5\n",
        "Bh=cv2.filter2D(B,-1,h)\n",
        "Bv=cv2.filter2D(B,-1,v)\n",
        "SB=(Bh*2+Bv*2)*0.5\n",
        "Fh=cv2.filter2D(F,-1,h)\n",
        "Fv=cv2.filter2D(F,-1,v)\n",
        "SF=(Fh*2+Fv*Fv)*0.5\n",
        "\n",
        "for i in range(256):\n",
        "  for j in range(256):\n",
        "    SA[i][j]=np.sqrt(Ah[i][j]*2+Av[i][j]*2)\n",
        "    SB[i][j]=np.sqrt(Bh[i][j]*2+Bv[i][j]*2)\n",
        "    SF[i][j]=np.sqrt(Fh[i][j]*2+Fv[i][j]*2)\n",
        "print(DCS(SA,SF)+DCS(SB,SF))"
      ],
      "metadata": {
        "id": "g71x6ga6Ia1L"
      },
      "execution_count": null,
      "outputs": []
    }
  ],
  "metadata": {
    "accelerator": "GPU",
    "colab": {
      "provenance": []
    },
    "kernelspec": {
      "display_name": "Python 3",
      "language": "python",
      "name": "python3"
    },
    "language_info": {
      "codemirror_mode": {
        "name": "ipython",
        "version": 3
      },
      "file_extension": ".py",
      "mimetype": "text/x-python",
      "name": "python",
      "nbconvert_exporter": "python",
      "pygments_lexer": "ipython3",
      "version": "3.6.9"
    }
  },
  "nbformat": 4,
  "nbformat_minor": 0
}